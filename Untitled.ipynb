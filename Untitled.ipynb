{
 "cells": [
  {
   "cell_type": "code",
   "execution_count": 25,
   "metadata": {},
   "outputs": [
    {
     "name": "stdout",
     "output_type": "stream",
     "text": [
      "True\n",
      "1\n",
      "2\n",
      "False\n"
     ]
    }
   ],
   "source": [
    "class Rectangle:\n",
    "    count = 0 # 클래스 맴버\n",
    "    def __init__(self, width , height):\n",
    "        self.width=width\n",
    "        self.height = height\n",
    "        Rectangle.count +=1\n",
    "    \n",
    "    #인스턴스 메소드\n",
    "    \n",
    "    def calcArea(self):\n",
    "        area = self.width * self.height\n",
    "        return area\n",
    "    \n",
    "    # static method\n",
    "    @staticmethod\n",
    "    def isSquare(rectWidth, rectHeight):\n",
    "        return rectWidth == rectHeight\n",
    "    \n",
    "    #class method\n",
    "    @classmethod\n",
    "    def printCount(cls):\n",
    "        print(cls.count)\n",
    "        \n",
    "#test\n",
    "square = Rectangle.isSquare(5,5)\n",
    "print(square)\n",
    "\n",
    "rect1 = Rectangle(5,5)\n",
    "rect1.printCount()\n",
    "rect2 = Rectangle(5,2)\n",
    "a = rect1.isSquare(1,5)\n",
    "rect1.printCount()\n",
    "print(a)"
   ]
  },
  {
   "cell_type": "code",
   "execution_count": null,
   "metadata": {},
   "outputs": [],
   "source": []
  }
 ],
 "metadata": {
  "kernelspec": {
   "display_name": "Python 3",
   "language": "python",
   "name": "python3"
  },
  "language_info": {
   "codemirror_mode": {
    "name": "ipython",
    "version": 3
   },
   "file_extension": ".py",
   "mimetype": "text/x-python",
   "name": "python",
   "nbconvert_exporter": "python",
   "pygments_lexer": "ipython3",
   "version": "3.8.3"
  }
 },
 "nbformat": 4,
 "nbformat_minor": 4
}
